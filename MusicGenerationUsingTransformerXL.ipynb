{
  "nbformat": 4,
  "nbformat_minor": 0,
  "metadata": {
    "colab": {
      "provenance": [],
      "mount_file_id": "1hMGsLA4dQDXzmnU55qNPExUnsnAhSLIK",
      "authorship_tag": "ABX9TyPFoPOnyQzE3vYIfWlOkh/C",
      "include_colab_link": true
    },
    "kernelspec": {
      "name": "python3",
      "display_name": "Python 3"
    },
    "language_info": {
      "name": "python"
    }
  },
  "cells": [
    {
      "cell_type": "markdown",
      "metadata": {
        "id": "view-in-github",
        "colab_type": "text"
      },
      "source": [
        "<a href=\"https://colab.research.google.com/github/Shanmukh459/MusicGenerationUsingTransformerXL/blob/main/MusicGenerationUsingTransformerXL.ipynb\" target=\"_parent\"><img src=\"https://colab.research.google.com/assets/colab-badge.svg\" alt=\"Open In Colab\"/></a>"
      ]
    },
    {
      "cell_type": "code",
      "source": [
        "import music21\n",
        "music21.configure.run()"
      ],
      "metadata": {
        "colab": {
          "base_uri": "https://localhost:8080/"
        },
        "id": "k2VkTyH-cbn-",
        "outputId": "c09eb3aa-492f-4e72-b89d-ae95e01bbd40"
      },
      "execution_count": 2,
      "outputs": [
        {
          "name": "stdout",
          "output_type": "stream",
          "text": [
            "\n",
            "______________________________________________________________________________ \n",
            "  \n",
            "Welcome to the music21 Configuration Assistant. You will be guided through a \n",
            "number of questions to install and set up music21. Simply pressing return at a \n",
            "prompt will select a default, if available. \n",
            "\n",
            "You may run this configuration again at a later time by running \n",
            "music21/configure.py. \n",
            "  \n",
            "______________________________________________________________________________ \n",
            "  \n",
            "The BSD-licensed music21 software is distributed with a corpus of encoded \n",
            "compositions which are distributed with the permission of the encoders (and, \n",
            "where needed, the composers or arrangers) and where permitted under United \n",
            "States copyright law. Some encodings included in the corpus may not be used \n",
            "for commercial uses or have other restrictions: please see the licenses \n",
            "embedded in individual compositions or directories for more details. \n",
            "  \n",
            "In addition to the corpus distributed with music21, other pieces are not \n",
            "included in this distribution, but are indexed as links to other web sites \n",
            "where they can be downloaded (the \"virtual corpus\"). If you would like, \n",
            "music21 can help your computer automatically resolve these links and bring \n",
            "them to your hard drive for analysis. \n",
            "To the best of our knowledge, the music (if not the encodings) in the corpus \n",
            "are either out of copyright in the United States and/or are licensed for non- \n",
            "commercial use. These works, along with any works linked to in the virtual \n",
            "corpus, may or may not be free in your jurisdiction. If you believe this \n",
            "message to be in error regarding one or more works please contact Michael \n",
            "Cuthbert at michael.asato.cuthbert@gmail.com \n",
            "  \n",
            "Would you like to: \n",
            "[1] Acknowledge these terms and allow music21 to aid in finding pieces in the \n",
            "corpus \n",
            "[2] Acknowledge these terms and block the virtual corpus \n",
            "[3] Do not agree to these terms and will not use music21 (agreeing to the \n",
            "terms of the corpus is mandatory for using the system). \n",
            "  \n",
            "Choose a number from the preceding options (default is 1): 1\n",
            "\n",
            "Auto Download set to: allow \n",
            "  \n",
            "______________________________________________________________________________ \n",
            "  \n",
            "Would you like to send a pre-formatted email to music21 regarding your \n",
            "installation? Installation reports help us make music21 work better for you: \n",
            "Enter Yes or No (default is Yes): No\n",
            "\n",
            "______________________________________________________________________________ \n",
            "  \n",
            "The music21 discussion group provides a forum for asking questions and getting \n",
            "help. Would you like to see the music21 discussion list or sign up for \n",
            "updates? Enter Yes or No (default is Yes): No\n",
            "\n",
            "______________________________________________________________________________ \n",
            "  \n",
            "Would you like to view the music21 documentation in a web browser? Enter Yes \n",
            "or No (default is Yes): Yes\n",
            "\n",
            "______________________________________________________________________________ \n",
            "  \n",
            "The music21 Configuration Assistant is complete. Press return to continue. \n"
          ]
        }
      ]
    },
    {
      "cell_type": "code",
      "source": [],
      "metadata": {
        "id": "fDApTAVuc6N8"
      },
      "execution_count": null,
      "outputs": []
    }
  ]
}